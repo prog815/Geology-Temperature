{
  "nbformat": 4,
  "nbformat_minor": 0,
  "metadata": {
    "colab": {
      "name": "Загрузка гео&температур.ipynb",
      "provenance": [],
      "authorship_tag": "ABX9TyN86qLTNsX0xXequtOmYQCx",
      "include_colab_link": true
    },
    "kernelspec": {
      "name": "python3",
      "display_name": "Python 3"
    }
  },
  "cells": [
    {
      "cell_type": "markdown",
      "metadata": {
        "id": "view-in-github",
        "colab_type": "text"
      },
      "source": [
        "<a href=\"https://colab.research.google.com/github/avladova/Geology-Temperature/blob/main/%D0%97%D0%B0%D0%B3%D1%80%D1%83%D0%B7%D0%BA%D0%B0_%D0%B3%D0%B5%D0%BE%26%D1%82%D0%B5%D0%BC%D0%BF%D0%B5%D1%80%D0%B0%D1%82%D1%83%D1%80.ipynb\" target=\"_parent\"><img src=\"https://colab.research.google.com/assets/colab-badge.svg\" alt=\"Open In Colab\"/></a>"
      ]
    },
    {
      "cell_type": "code",
      "metadata": {
        "id": "SRzP28GR7A-5"
      },
      "source": [
        "import numpy as np\n",
        "import pandas as pd\n",
        "import seaborn as sns"
      ],
      "execution_count": null,
      "outputs": []
    },
    {
      "cell_type": "code",
      "metadata": {
        "id": "-Fbnex9q7DJj"
      },
      "source": [
        "sourceT=pd.read_excel(\"Термоскв НЧ.xlsx\", converters= {'Дата': pd.to_datetime}, index_col=False )\n",
        "print(sourceT[['ПК','Плюсовка, м']].sample(5))"
      ],
      "execution_count": null,
      "outputs": []
    },
    {
      "cell_type": "code",
      "metadata": {
        "id": "GuUXFqBo7P5A"
      },
      "source": [
        "#явное приведение типов\n",
        "sourceT['№ термоскважины']=sourceT['№ скважины'].astype(np.int64,errors='ignore')\n",
        "sourceT.dropna(inplace=True)\n",
        "sourceT['№ косы']=sourceT['№ косы'].astype(np.int64,errors='ignore')\n",
        "sourceT.drop('№ скважины', inplace=True, axis=1)\n",
        "sourceT.info()"
      ],
      "execution_count": null,
      "outputs": []
    },
    {
      "cell_type": "code",
      "metadata": {
        "id": "80p_XxCl7V3Q"
      },
      "source": [
        "sourceG=pd.read_excel(\"Геология Заполярье.xlsx\", index_col=False )\n",
        "sourceG.dropna(inplace=True)\n",
        "sourceG.info()"
      ],
      "execution_count": null,
      "outputs": []
    },
    {
      "cell_type": "code",
      "metadata": {
        "id": "WOiBZgLF7kSI"
      },
      "source": [
        "#Замена значений проблемного столбца со множеством пропусков - номер скважины  на значения взятые по плюсовке с учетом группы\n",
        "sourceG[\"Номер скважины\"] = sourceG.groupby(\"Плюсовка, м\").transform(lambda x: x.fillna(x.mean())).astype(np.int64,errors='ignore')\n",
        "sourceG['Номер ИГЭ']=sourceG['Номер ИГЭ'].astype(np.int64,errors='ignore')\n",
        "sourceG.dropna(inplace=True)\n",
        "sourceG.info()"
      ],
      "execution_count": null,
      "outputs": []
    }
  ]
}
